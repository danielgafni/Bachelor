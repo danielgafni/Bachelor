{
 "cells": [
  {
   "cell_type": "markdown",
   "metadata": {},
   "source": [
    "# Imports"
   ]
  },
  {
   "cell_type": "code",
   "execution_count": null,
   "metadata": {
    "ExecuteTime": {
     "end_time": "2019-09-25T11:59:48.765182Z",
     "start_time": "2019-09-25T11:59:47.548988Z"
    },
    "pycharm": {
     "is_executing": false,
     "name": "#%%\n"
    },
    "scrolled": false
   },
   "outputs": [],
   "source": [
    "import torch\n",
    "import matplotlib.pyplot as plt\n",
    "from torchvision import transforms\n",
    "\n",
    "from time import time as t\n",
    "import datetime\n",
    "from tqdm import tqdm\n",
    "\n",
    "from bindsnet.datasets import MNIST\n",
    "from bindsnet.encoding import PoissonEncoder\n",
    "from bindsnet.network import Network, load\n",
    "from bindsnet.learning import PostPre, WeightDependentPostPre\n",
    "from bindsnet.network.monitors import Monitor, NetworkMonitor\n",
    "from bindsnet.network.nodes import AdaptiveLIFNodes, Input\n",
    "from bindsnet.network.topology import LocalConnection, Connection\n",
    "from bindsnet.analysis.plotting import (\n",
    "    plot_input,\n",
    "    plot_spikes,\n",
    "    plot_conv2d_weights,\n",
    "    plot_voltages,\n",
    ")\n",
    "\n",
    "from IPython.display import clear_output\n",
    "\n",
    "%matplotlib inline"
   ]
  },
  {
   "cell_type": "markdown",
   "metadata": {},
   "source": [
    "# Loading and encoding MNIST dataset"
   ]
  },
  {
   "cell_type": "code",
   "execution_count": null,
   "metadata": {
    "ExecuteTime": {
     "end_time": "2019-09-25T11:59:52.004468Z",
     "start_time": "2019-09-25T11:59:51.965762Z"
    },
    "pycharm": {
     "is_executing": false
    },
    "scrolled": false
   },
   "outputs": [],
   "source": [
    "time_max = 30\n",
    "dt = 1\n",
    "intensity = 127.5\n",
    "\n",
    "train_dataset = MNIST(\n",
    "    PoissonEncoder(time=time_max, dt=dt),\n",
    "    None,\n",
    "    \"MNIST\",\n",
    "    download=False,\n",
    "    train=True,\n",
    "    transform=transforms.Compose(\n",
    "        [transforms.ToTensor(), transforms.Lambda(lambda x: x * intensity)]\n",
    "    )\n",
    ")"
   ]
  },
  {
   "cell_type": "markdown",
   "metadata": {},
   "source": [
    "# Building network"
   ]
  },
  {
   "cell_type": "code",
   "execution_count": null,
   "metadata": {
    "ExecuteTime": {
     "end_time": "2019-09-25T18:21:38.729513Z",
     "start_time": "2019-09-25T18:21:35.217832Z"
    },
    "scrolled": false
   },
   "outputs": [],
   "source": [
    "# Hyperparameters \n",
    "n_filters = 25\n",
    "kernel_size = 12\n",
    "stride = 4 \n",
    "padding = 0\n",
    "conv_size = int((28 - kernel_size + 2 * padding) / stride) + 1\n",
    "per_class = int((n_filters * conv_size * conv_size) / 10)\n",
    "tc_trace = 20.  # grid search check\n",
    "tc_decay = 20.\n",
    "thresh = -52\n",
    "refrac = 5\n",
    "\n",
    "wmin = 0\n",
    "wmax = 1\n",
    "\n",
    "# Network\n",
    "network = Network(learning=True)\n",
    "GlobalMonitor = NetworkMonitor(network, state_vars=('v', 's', 'w'))\n",
    "\n",
    "\n",
    "input_layer = Input(n=784, shape=(1, 28, 28), traces=True)\n",
    "\n",
    "output_layer = AdaptiveLIFNodes(\n",
    "    n=n_filters * conv_size * conv_size,\n",
    "    shape=(n_filters, conv_size, conv_size),\n",
    "    traces=True,\n",
    "    thres=thresh,\n",
    "    trace_tc=tc_trace,\n",
    "    tc_decay=tc_decay,\n",
    "    theta_plus=0.05,\n",
    "    tc_theta_decay=1e6)\n",
    "\n",
    "\n",
    "connection_XY = LocalConnection(\n",
    "    input_layer,\n",
    "    output_layer,\n",
    "    n_filters=n_filters,\n",
    "    kernel_size=kernel_size,\n",
    "    stride=stride,\n",
    "    update_rule=PostPre,\n",
    "    norm=1/2, #1/(kernel_size ** 2),#0.4 * kernel_size ** 2,  # norm constant - check\n",
    "    nu=[1e-4, 1e-2],\n",
    "    wmin=wmin,\n",
    "    wmax=wmax)\n",
    "\n",
    "# competitive connections\n",
    "w = torch.zeros(n_filters, conv_size, conv_size, n_filters, conv_size, conv_size)\n",
    "for fltr1 in range(n_filters):\n",
    "    for fltr2 in range(n_filters):\n",
    "        if fltr1 != fltr2:\n",
    "            # change\n",
    "            for i in range(conv_size):\n",
    "                for j in range(conv_size):\n",
    "                    w[fltr1, i, j, fltr2, i, j] = -100.0\n",
    "                    \n",
    "connection_YY = Connection(output_layer, output_layer, w=w)\n",
    "\n",
    "network.add_layer(input_layer, name='X')\n",
    "network.add_layer(output_layer, name='Y')\n",
    "\n",
    "network.add_connection(connection_XY, source='X', target='Y')\n",
    "network.add_connection(connection_YY, source='Y', target='Y')\n",
    "\n",
    "network.add_monitor(GlobalMonitor, name='Network')\n",
    "\n",
    "spikes = {}\n",
    "for layer in set(network.layers):\n",
    "    spikes[layer] = Monitor(network.layers[layer], state_vars=[\"s\"], time=time_max)\n",
    "    network.add_monitor(spikes[layer], name=\"%s_spikes\" % layer)\n",
    "    print('GlobalMonitor.state_vars:', GlobalMonitor.state_vars)\n",
    "\n",
    "voltages = {}\n",
    "for layer in set(network.layers) - {\"X\"}:\n",
    "    voltages[layer] = Monitor(network.layers[layer], state_vars=[\"v\"], time=time_max)\n",
    "    network.add_monitor(voltages[layer], name=\"%s_voltages\" % layer)"
   ]
  },
  {
   "cell_type": "markdown",
   "metadata": {},
   "source": [
    "# Training"
   ]
  },
  {
   "cell_type": "code",
   "execution_count": null,
   "metadata": {
    "ExecuteTime": {
     "end_time": "2019-09-25T16:59:13.196524Z",
     "start_time": "2019-09-25T16:59:09.922916Z"
    },
    "scrolled": true
   },
   "outputs": [],
   "source": [
    "visualize = False\n",
    "n_train = 1\n",
    "for epoch in range(n_train):\n",
    "    train_dataloader = torch.utils.data.DataLoader(\n",
    "        train_dataset, batch_size=1, shuffle=True)\n",
    "    \n",
    "    for batch in tqdm(train_dataloader):\n",
    "        inpts = {\"X\": batch[\"encoded_image\"]}\n",
    "        inpts = {\"X\": batch[\"encoded_image\"].transpose(0, 1)}\n",
    "\n",
    "        network.run(inpts=inpts, time=time_max, input_time_dim=1)\n",
    "    network.reset_()  # Reset state variables"
   ]
  },
  {
   "cell_type": "markdown",
   "metadata": {},
   "source": [
    "# Saving network"
   ]
  },
  {
   "cell_type": "code",
   "execution_count": null,
   "metadata": {
    "ExecuteTime": {
     "end_time": "2019-09-18T08:27:28.724635Z",
     "start_time": "2019-09-18T08:27:28.641874Z"
    },
    "scrolled": false
   },
   "outputs": [],
   "source": [
    "network.save(f'network_{str(datetime.datetime.today())}'[:-7].replace(' ', '_').replace(':', '-'))"
   ]
  },
  {
   "cell_type": "markdown",
   "metadata": {},
   "source": [
    "# Locking network"
   ]
  },
  {
   "cell_type": "code",
   "execution_count": null,
   "metadata": {
    "ExecuteTime": {
     "end_time": "2019-09-18T08:30:26.324295Z",
     "start_time": "2019-09-18T08:30:26.320311Z"
    },
    "scrolled": false
   },
   "outputs": [],
   "source": [
    "network.train(False);"
   ]
  },
  {
   "cell_type": "markdown",
   "metadata": {},
   "source": [
    "# Loading network"
   ]
  },
  {
   "cell_type": "code",
   "execution_count": null,
   "metadata": {
    "ExecuteTime": {
     "end_time": "2019-09-18T09:43:26.876230Z",
     "start_time": "2019-09-18T09:43:26.806418Z"
    },
    "scrolled": false
   },
   "outputs": [],
   "source": [
    "network = load('default', learning=False)"
   ]
  },
  {
   "cell_type": "markdown",
   "metadata": {},
   "source": [
    "# Testing network"
   ]
  },
  {
   "cell_type": "code",
   "execution_count": null,
   "metadata": {
    "ExecuteTime": {
     "end_time": "2019-09-25T18:40:31.412021Z",
     "start_time": "2019-09-25T18:21:48.117418Z"
    },
    "scrolled": false
   },
   "outputs": [],
   "source": [
    "plot = True\n",
    "n_test = 1\n",
    "max_test_iterations = 100\n",
    "plt.figure()\n",
    "for epoch in range(n_test):\n",
    "    test_dataloader = torch.utils.data.DataLoader(\n",
    "        train_dataset, batch_size=1, shuffle=True)\n",
    "        \n",
    "    for batch in tqdm(test_dataloader):\n",
    "        #Processing\n",
    "        inpts = {\"X\": batch[\"encoded_image\"]}\n",
    "        inpts = {\"X\": batch[\"encoded_image\"].transpose(0, 1)}\n",
    "        label = batch[\"label\"]\n",
    "        network.run(inpts=inpts, time=time_max, input_time_dim=1)\n",
    "\n",
    "        #Visualization\n",
    "        # Optionally plot various simulation information.\n",
    "        if plot:\n",
    "            inpt_axes = None\n",
    "            inpt_ims = None\n",
    "            spike_ims = None\n",
    "            spike_axes = None\n",
    "            weights1_im = None\n",
    "            voltage_ims = None\n",
    "            voltage_axes = None\n",
    "            image = batch[\"image\"].view(28, 28)\n",
    "\n",
    "            inpt = inpts[\"X\"].view(time_max, 784).sum(0).view(28, 28)\n",
    "            weights_XY = connection_XY.w\n",
    "            weights_YY = connection_YY.w\n",
    "\n",
    "            _spikes = {\n",
    "                \"X\": spikes[\"X\"].get(\"s\").view(time_max, -1),\n",
    "                \"Y\": spikes[\"Y\"].get(\"s\").view(time_max, -1),\n",
    "            }\n",
    "            _voltages = {\"Y\": voltages[\"Y\"].get(\"v\").view(time_max, -1)}\n",
    "\n",
    "            inpt_axes, inpt_ims = plot_input(\n",
    "                image, inpt, label=label, axes=inpt_axes, ims=inpt_ims\n",
    "            )\n",
    "            spike_ims, spike_axes = plot_spikes(_spikes, ims=spike_ims, axes=spike_axes)\n",
    "            f, (ax1, ax2) = plt.subplots(1, 2, figsize=(15, 10))\n",
    "            weights_XY = weights_XY.reshape(28, 28, -1)\n",
    "            weights_to_display = torch.zeros(0, 28*25)\n",
    "            i = 0\n",
    "            while i < 625:\n",
    "                for j in range(25):\n",
    "                    weights_to_display_row = torch.zeros(28, 0)\n",
    "                    for k in range(25):\n",
    "                        weights_to_display_row = torch.cat((weights_to_display_row, weights_XY[:, :, i]), dim=1)\n",
    "                        i += 1\n",
    "                    weights_to_display = torch.cat((weights_to_display, weights_to_display_row), dim=0)\n",
    "            ax1.imshow(weights_to_display.numpy())\n",
    "            #ax1.colorbar()\n",
    "            ax1.set_title('XY weights')\n",
    "            ax2.imshow(weights_YY.reshape(5*5*25, 5*5*25).numpy())\n",
    "            #ax2.colorbar()\n",
    "            ax2.set_title('YY weights')\n",
    "            #f.colorbar([0, 1])\n",
    "            f.show()\n",
    "            voltage_ims, voltage_axes = plot_voltages(\n",
    "                _voltages, ims=voltage_ims, axes=voltage_axes\n",
    "            )\n",
    "\n",
    "            plt.pause(1)\n",
    "\n",
    "        clear_output(wait=True)\n",
    "        #break\n",
    "\n",
    "\n",
    "    network.reset_()  # Reset state variables\n",
    "    "
   ]
  },
  {
   "cell_type": "code",
   "execution_count": null,
   "metadata": {
    "ExecuteTime": {
     "end_time": "2019-09-25T18:41:04.535574Z",
     "start_time": "2019-09-25T18:41:03.812904Z"
    },
    "scrolled": true
   },
   "outputs": [],
   "source": []
  },
  {
   "cell_type": "code",
   "execution_count": null,
   "metadata": {
    "ExecuteTime": {
     "end_time": "2019-09-25T18:43:19.033993Z",
     "start_time": "2019-09-25T18:43:18.102010Z"
    },
    "scrolled": false
   },
   "outputs": [],
   "source": []
  },
  {
   "cell_type": "code",
   "execution_count": null,
   "metadata": {
    "ExecuteTime": {
     "end_time": "2019-09-25T17:56:39.035584Z",
     "start_time": "2019-09-25T17:56:38.959705Z"
    },
    "scrolled": true
   },
   "outputs": [],
   "source": []
  },
  {
   "cell_type": "code",
   "execution_count": null,
   "metadata": {
    "ExecuteTime": {
     "end_time": "2019-09-25T16:54:19.010231Z",
     "start_time": "2019-09-25T16:54:19.003784Z"
    },
    "scrolled": true
   },
   "outputs": [],
   "source": []
  },
  {
   "cell_type": "code",
   "execution_count": null,
   "metadata": {
    "ExecuteTime": {
     "end_time": "2019-09-25T16:52:15.440162Z",
     "start_time": "2019-09-25T16:52:15.432227Z"
    },
    "scrolled": false
   },
   "outputs": [],
   "source": []
  },
  {
   "cell_type": "code",
   "execution_count": null,
   "metadata": {
    "ExecuteTime": {
     "end_time": "2019-09-25T16:46:28.511709Z",
     "start_time": "2019-09-25T16:46:28.501279Z"
    },
    "scrolled": true
   },
   "outputs": [],
   "source": []
  },
  {
   "cell_type": "code",
   "execution_count": null,
   "metadata": {
    "scrolled": true
   },
   "outputs": [],
   "source": []
  }
 ],
 "metadata": {
  "hide_input": false,
  "kernelspec": {
   "display_name": "Python 3",
   "language": "python",
   "name": "python3"
  },
  "language_info": {
   "codemirror_mode": {
    "name": "ipython",
    "version": 3
   },
   "file_extension": ".py",
   "mimetype": "text/x-python",
   "name": "python",
   "nbconvert_exporter": "python",
   "pygments_lexer": "ipython3",
   "version": "3.7.4"
  },
  "pycharm": {
   "stem_cell": {
    "cell_type": "raw",
    "metadata": {
     "collapsed": false
    },
    "source": []
   }
  },
  "toc": {
   "base_numbering": 1,
   "nav_menu": {},
   "number_sections": true,
   "sideBar": true,
   "skip_h1_title": false,
   "title_cell": "Table of Contents",
   "title_sidebar": "Contents",
   "toc_cell": false,
   "toc_position": {},
   "toc_section_display": true,
   "toc_window_display": false
  },
  "varInspector": {
   "cols": {
    "lenName": 16,
    "lenType": 16,
    "lenVar": 40
   },
   "kernels_config": {
    "python": {
     "delete_cmd_postfix": "",
     "delete_cmd_prefix": "del ",
     "library": "var_list.py",
     "varRefreshCmd": "print(var_dic_list())"
    },
    "r": {
     "delete_cmd_postfix": ") ",
     "delete_cmd_prefix": "rm(",
     "library": "var_list.r",
     "varRefreshCmd": "cat(var_dic_list()) "
    }
   },
   "types_to_exclude": [
    "module",
    "function",
    "builtin_function_or_method",
    "instance",
    "_Feature"
   ],
   "window_display": false
  }
 },
 "nbformat": 4,
 "nbformat_minor": 2
}
