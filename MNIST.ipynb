{
 "cells": [
  {
   "cell_type": "markdown",
   "metadata": {},
   "source": [
    "# Imports"
   ]
  },
  {
   "cell_type": "code",
   "execution_count": null,
   "metadata": {
    "ExecuteTime": {
     "end_time": "2019-10-12T14:38:05.112228Z",
     "start_time": "2019-10-12T14:38:02.337113Z"
    },
    "pycharm": {
     "is_executing": false,
     "name": "#%%\n"
    },
    "scrolled": false
   },
   "outputs": [],
   "source": [
    "import torch\n",
    "import matplotlib.pyplot as plt\n",
    "from torchvision import transforms\n",
    "\n",
    "from time import time as t\n",
    "import datetime\n",
    "from tqdm import tqdm\n",
    "\n",
    "from bindsnet.datasets import MNIST\n",
    "from bindsnet.encoding import PoissonEncoder\n",
    "from bindsnet.network import Network, load\n",
    "from bindsnet.learning import PostPre, WeightDependentPostPre\n",
    "from bindsnet.network.monitors import Monitor, NetworkMonitor\n",
    "from bindsnet.network.nodes import AdaptiveLIFNodes, Input\n",
    "from bindsnet.network.topology import LocalConnection, Connection\n",
    "from bindsnet.analysis.plotting import (\n",
    "    plot_input,\n",
    "    plot_spikes,\n",
    "    plot_conv2d_weights,\n",
    "    plot_voltages,\n",
    ")\n",
    "\n",
    "from IPython.display import clear_output\n",
    "\n",
    "from LC_SNN import LC_SNN\n",
    "\n",
    "%matplotlib inline"
   ]
  },
  {
   "cell_type": "markdown",
   "metadata": {},
   "source": [
    "# Loading and encoding MNIST dataset"
   ]
  },
  {
   "cell_type": "code",
   "execution_count": null,
   "metadata": {
    "ExecuteTime": {
     "end_time": "2019-10-12T14:18:44.306439Z",
     "start_time": "2019-10-12T14:18:44.259814Z"
    },
    "pycharm": {
     "is_executing": false
    },
    "scrolled": false
   },
   "outputs": [],
   "source": [
    "time_max = 30\n",
    "dt = 1\n",
    "intensity = 127.5\n",
    "\n",
    "train_dataset = MNIST(\n",
    "    PoissonEncoder(time=time_max, dt=dt),\n",
    "    None,\n",
    "    \"MNIST\",\n",
    "    download=False,\n",
    "    train=True,\n",
    "    transform=transforms.Compose(\n",
    "        [transforms.ToTensor(), transforms.Lambda(lambda x: x * intensity)]\n",
    "    )\n",
    ")"
   ]
  },
  {
   "cell_type": "markdown",
   "metadata": {},
   "source": [
    "# Building network"
   ]
  },
  {
   "cell_type": "code",
   "execution_count": null,
   "metadata": {
    "ExecuteTime": {
     "end_time": "2019-10-12T14:18:51.542768Z",
     "start_time": "2019-10-12T14:18:46.215735Z"
    },
    "scrolled": false
   },
   "outputs": [],
   "source": [
    "# Hyperparameters \n",
    "n_filters = 25\n",
    "kernel_size = 12\n",
    "stride = 4 \n",
    "padding = 0\n",
    "conv_size = int((28 - kernel_size + 2 * padding) / stride) + 1\n",
    "per_class = int((n_filters * conv_size * conv_size) / 10)\n",
    "tc_trace = 20.  # grid search check\n",
    "tc_decay = 20.\n",
    "thresh = -52\n",
    "refrac = 5\n",
    "\n",
    "wmin = 0\n",
    "wmax = 1\n",
    "\n",
    "# Network\n",
    "network = Network(learning=True)\n",
    "GlobalMonitor = NetworkMonitor(network, state_vars=('v', 's', 'w'))\n",
    "\n",
    "\n",
    "input_layer = Input(n=784, shape=(1, 28, 28), traces=True)\n",
    "\n",
    "output_layer = AdaptiveLIFNodes(\n",
    "    n=n_filters * conv_size * conv_size,\n",
    "    shape=(n_filters, conv_size, conv_size),\n",
    "    traces=True,\n",
    "    thres=thresh,\n",
    "    trace_tc=tc_trace,\n",
    "    tc_decay=tc_decay,\n",
    "    theta_plus=0.05,\n",
    "    tc_theta_decay=1e6)\n",
    "\n",
    "\n",
    "connection_XY = LocalConnection(\n",
    "    input_layer,\n",
    "    output_layer,\n",
    "    n_filters=n_filters,\n",
    "    kernel_size=kernel_size,\n",
    "    stride=stride,\n",
    "    update_rule=PostPre,\n",
    "    norm=1/2, #1/(kernel_size ** 2),#0.4 * kernel_size ** 2,  # norm constant - check\n",
    "    nu=[1e-4, 1e-2],\n",
    "    wmin=wmin,\n",
    "    wmax=wmax)\n",
    "\n",
    "# competitive connections\n",
    "w = torch.zeros(n_filters, conv_size, conv_size, n_filters, conv_size, conv_size)\n",
    "for fltr1 in range(n_filters):\n",
    "    for fltr2 in range(n_filters):\n",
    "        if fltr1 != fltr2:\n",
    "            # change\n",
    "            for i in range(conv_size):\n",
    "                for j in range(conv_size):\n",
    "                    w[fltr1, i, j, fltr2, i, j] = -100.0\n",
    "                    \n",
    "connection_YY = Connection(output_layer, output_layer, w=w)\n",
    "\n",
    "network.add_layer(input_layer, name='X')\n",
    "network.add_layer(output_layer, name='Y')\n",
    "\n",
    "network.add_connection(connection_XY, source='X', target='Y')\n",
    "network.add_connection(connection_YY, source='Y', target='Y')\n",
    "\n",
    "network.add_monitor(GlobalMonitor, name='Network')\n",
    "\n",
    "spikes = {}\n",
    "for layer in set(network.layers):\n",
    "    spikes[layer] = Monitor(network.layers[layer], state_vars=[\"s\"], time=time_max)\n",
    "    network.add_monitor(spikes[layer], name=\"%s_spikes\" % layer)\n",
    "    print('GlobalMonitor.state_vars:', GlobalMonitor.state_vars)\n",
    "\n",
    "voltages = {}\n",
    "for layer in set(network.layers) - {\"X\"}:\n",
    "    voltages[layer] = Monitor(network.layers[layer], state_vars=[\"v\"], time=time_max)\n",
    "    network.add_monitor(voltages[layer], name=\"%s_voltages\" % layer)"
   ]
  },
  {
   "cell_type": "markdown",
   "metadata": {},
   "source": [
    "# Training"
   ]
  },
  {
   "cell_type": "code",
   "execution_count": null,
   "metadata": {
    "ExecuteTime": {
     "end_time": "2019-09-26T16:23:11.825315Z",
     "start_time": "2019-09-26T16:22:54.334843Z"
    },
    "scrolled": true
   },
   "outputs": [],
   "source": [
    "visualize = False\n",
    "n_train = 1\n",
    "for epoch in range(n_train):\n",
    "    train_dataloader = torch.utils.data.DataLoader(\n",
    "        train_dataset, batch_size=1, shuffle=True)\n",
    "    \n",
    "    for batch in tqdm(train_dataloader):\n",
    "        inpts = {\"X\": batch[\"encoded_image\"]}\n",
    "        inpts = {\"X\": batch[\"encoded_image\"].transpose(0, 1)}\n",
    "\n",
    "        network.run(inpts=inpts, time=time_max, input_time_dim=1)\n",
    "    network.reset_()  # Reset state variables"
   ]
  },
  {
   "cell_type": "markdown",
   "metadata": {},
   "source": [
    "# Saving network"
   ]
  },
  {
   "cell_type": "code",
   "execution_count": null,
   "metadata": {
    "ExecuteTime": {
     "end_time": "2019-09-26T16:23:11.834243Z",
     "start_time": "2019-09-26T16:22:50.203Z"
    },
    "scrolled": false
   },
   "outputs": [],
   "source": [
    "network.save(f'network_{str(datetime.datetime.today())}'[:-7].replace(' ', '_').replace(':', '-'))"
   ]
  },
  {
   "cell_type": "markdown",
   "metadata": {},
   "source": [
    "# Locking network"
   ]
  },
  {
   "cell_type": "code",
   "execution_count": null,
   "metadata": {
    "ExecuteTime": {
     "end_time": "2019-09-26T16:23:11.836724Z",
     "start_time": "2019-09-26T16:22:50.207Z"
    },
    "scrolled": false
   },
   "outputs": [],
   "source": [
    "network.train(False);"
   ]
  },
  {
   "cell_type": "markdown",
   "metadata": {},
   "source": [
    "# Loading network"
   ]
  },
  {
   "cell_type": "code",
   "execution_count": null,
   "metadata": {
    "ExecuteTime": {
     "end_time": "2019-09-26T16:23:11.838211Z",
     "start_time": "2019-09-26T16:22:50.211Z"
    },
    "scrolled": false
   },
   "outputs": [],
   "source": [
    "network = load('default', learning=False)"
   ]
  },
  {
   "cell_type": "markdown",
   "metadata": {},
   "source": [
    "# Testing network"
   ]
  },
  {
   "cell_type": "code",
   "execution_count": null,
   "metadata": {
    "ExecuteTime": {
     "end_time": "2019-09-26T16:23:11.839699Z",
     "start_time": "2019-09-26T16:22:50.215Z"
    },
    "scrolled": false
   },
   "outputs": [],
   "source": [
    "plt.figure()\n",
    "test_dataloader = torch.utils.data.DataLoader(\n",
    "    train_dataset, batch_size=1, shuffle=True)\n",
    "\n",
    "for batch in tqdm(list(zip([0], test_dataloader))):\n",
    "    #Processing\n",
    "    inpts = {\"X\": batch[\"encoded_image\"].transpose(0, 1)}\n",
    "    label = batch[\"label\"]\n",
    "    network.run(inpts=inpts, time=time_max, input_time_dim=1)\n",
    "\n",
    "    #Visualization\n",
    "    # Optionally plot various simulation information.\n",
    "    inpt_axes = None\n",
    "    inpt_ims = None\n",
    "    spike_ims = None\n",
    "    spike_axes = None\n",
    "    weights1_im = None\n",
    "    voltage_ims = None\n",
    "    voltage_axes = None\n",
    "    image = batch[\"image\"].view(28, 28)\n",
    "\n",
    "    inpt = inpts[\"X\"].view(time_max, 784).sum(0).view(28, 28)\n",
    "    weights_XY = connection_XY.w\n",
    "    weights_YY = connection_YY.w\n",
    "\n",
    "    _spikes = {\n",
    "        \"X\": spikes[\"X\"].get(\"s\").view(time_max, -1),\n",
    "        \"Y\": spikes[\"Y\"].get(\"s\").view(time_max, -1),\n",
    "    }\n",
    "    _voltages = {\"Y\": voltages[\"Y\"].get(\"v\").view(time_max, -1)}\n",
    "\n",
    "    inpt_axes, inpt_ims = plot_input(\n",
    "        image, inpt, label=label, axes=inpt_axes, ims=inpt_ims\n",
    "    )\n",
    "    spike_ims, spike_axes = plot_spikes(_spikes, ims=spike_ims, axes=spike_axes)\n",
    "    f, (ax1, ax2) = plt.subplots(1, 2, figsize=(15, 10))\n",
    "    weights_XY = weights_XY.reshape(28, 28, -1)\n",
    "    weights_to_display = torch.zeros(0, 28*25)\n",
    "    i = 0\n",
    "    while i < 625:\n",
    "        for j in range(25):\n",
    "            weights_to_display_row = torch.zeros(28, 0)\n",
    "            for k in range(25):\n",
    "                weights_to_display_row = torch.cat((weights_to_display_row, weights_XY[:, :, i]), dim=1)\n",
    "                i += 1\n",
    "            weights_to_display = torch.cat((weights_to_display, weights_to_display_row), dim=0)\n",
    "    im1 = ax1.imshow(weights_to_display.numpy())\n",
    "    im2 = ax2.imshow(weights_YY.reshape(5*5*25, 5*5*25).numpy())\n",
    "    f.colorbar(im1, ax=ax1)\n",
    "    f.colorbar(im2, ax=ax2)\n",
    "    ax1.set_title('XY weights')\n",
    "    ax2.set_title('YY weights')\n",
    "    f.show()\n",
    "    voltage_ims, voltage_axes = plot_voltages(\n",
    "        _voltages, ims=voltage_ims, axes=voltage_axes\n",
    "    )\n",
    "network.reset_()  # Reset state variables\n",
    "    "
   ]
  },
  {
   "cell_type": "code",
   "execution_count": null,
   "metadata": {
    "ExecuteTime": {
     "end_time": "2019-09-26T16:23:11.840693Z",
     "start_time": "2019-09-26T16:22:50.221Z"
    },
    "scrolled": false
   },
   "outputs": [],
   "source": [
    "plt.figure(figsize=(25, 25))\n",
    "plt.imshow(weights_to_display.numpy())"
   ]
  },
  {
   "cell_type": "code",
   "execution_count": null,
   "metadata": {
    "ExecuteTime": {
     "end_time": "2019-09-26T17:24:26.489978Z",
     "start_time": "2019-09-26T17:24:26.484035Z"
    },
    "scrolled": false
   },
   "outputs": [],
   "source": [
    "from LC_SNN import LC_SNN\n",
    "def grid_search(norm_min=0.01, norm_max=1, n=10):\n",
    "    norms = np.linspace(norm_min, norm_max, 10)\n",
    "    for norm in norms:\n",
    "        net = LC_SNN(norm=norm)\n",
    "        print(net)\n",
    "        network_to_save = net.train(n_iter=1)\n",
    "        network_to_save.save(f'gridsearch//LC_SNN_norm={norm}') # Saving network for later\n",
    "        f = plt.figure(figsize=(20, 20), dpi=500)\n",
    "        plt.imshow(net.weights_XY)\n",
    "        f.savefig(f'gridsearch//weights_XY_norm={norm}.png') # Saving weights_XY"
   ]
  },
  {
   "cell_type": "code",
   "execution_count": null,
   "metadata": {
    "ExecuteTime": {
     "end_time": "2019-09-26T17:30:08.825389Z",
     "start_time": "2019-09-26T17:24:42.569465Z"
    },
    "scrolled": true
   },
   "outputs": [],
   "source": [
    "grid_search()"
   ]
  },
  {
   "cell_type": "code",
   "execution_count": null,
   "metadata": {
    "ExecuteTime": {
     "end_time": "2019-09-26T17:12:26.771550Z",
     "start_time": "2019-09-26T17:12:26.690566Z"
    },
    "scrolled": true
   },
   "outputs": [],
   "source": [
    "np.linspace(0.01, 100, 10)"
   ]
  },
  {
   "cell_type": "code",
   "execution_count": null,
   "metadata": {
    "ExecuteTime": {
     "end_time": "2019-10-12T14:40:51.650751Z",
     "start_time": "2019-10-12T14:38:15.494317Z"
    }
   },
   "outputs": [],
   "source": [
    "net = LC_SNN(norm=0.2375)\n",
    "net.load('network')\n",
    "net.calibrate_top_classes(1000)"
   ]
  },
  {
   "cell_type": "code",
   "execution_count": null,
   "metadata": {
    "ExecuteTime": {
     "end_time": "2019-10-12T14:35:58.017331Z",
     "start_time": "2019-10-12T14:35:58.006420Z"
    }
   },
   "outputs": [],
   "source": [
    "def calibrate_top_classes(spike_sums, y):\n",
    "        votes = torch.zeros(11, len(y)-1)\n",
    "        votes[10, :] = votes[10, :].fill_(1/len(y))\n",
    "        for (label, layer) in zip(y, spike_sums):\n",
    "            for i, spike_sum in enumerate(layer):\n",
    "                votes[label, i] += spike_sum\n",
    "        for i in range(10):\n",
    "            votes[i, :] = votes[i, :] / len((np.array(y) == i).nonzero()[0])\n",
    "        top_classes = votes.argmax(dim=0).numpy()\n",
    "        return"
   ]
  },
  {
   "cell_type": "code",
   "execution_count": null,
   "metadata": {
    "ExecuteTime": {
     "end_time": "2019-10-12T14:37:13.077898Z",
     "start_time": "2019-10-12T14:37:13.071946Z"
    },
    "scrolled": true
   },
   "outputs": [],
   "source": [
    "spike_sums = [[3, 0, 0], [5, 0, 0], [4, 1, 0]]\n",
    "y = [1, 2, 2]"
   ]
  },
  {
   "cell_type": "code",
   "execution_count": null,
   "metadata": {
    "ExecuteTime": {
     "end_time": "2019-10-12T14:37:38.460346Z",
     "start_time": "2019-10-12T14:37:38.455386Z"
    }
   },
   "outputs": [],
   "source": [
    "votes = torch.zeros(11, len(spike_sums[0]))\n",
    "votes[10, :] = votes[10, :].fill_(1/len(y))"
   ]
  },
  {
   "cell_type": "code",
   "execution_count": null,
   "metadata": {
    "ExecuteTime": {
     "end_time": "2019-10-12T14:37:41.526134Z",
     "start_time": "2019-10-12T14:37:41.513721Z"
    }
   },
   "outputs": [],
   "source": [
    "votes"
   ]
  },
  {
   "cell_type": "code",
   "execution_count": null,
   "metadata": {
    "ExecuteTime": {
     "end_time": "2019-10-12T14:15:30.767322Z",
     "start_time": "2019-10-12T14:15:30.743514Z"
    }
   },
   "outputs": [],
   "source": [
    "for (label, layer) in zip(y, spike_sums):\n",
    "    for i, spike_sum in enumerate(layer):\n",
    "        votes[label, i] += spike_sum\n",
    "        print(f'neuron {i} has spike sum {spike_sum} for label {label}')\n",
    "        print('------------')"
   ]
  },
  {
   "cell_type": "code",
   "execution_count": null,
   "metadata": {
    "ExecuteTime": {
     "end_time": "2019-10-12T14:15:34.338636Z",
     "start_time": "2019-10-12T14:15:34.330204Z"
    }
   },
   "outputs": [],
   "source": [
    "votes"
   ]
  },
  {
   "cell_type": "code",
   "execution_count": null,
   "metadata": {
    "ExecuteTime": {
     "end_time": "2019-10-12T14:15:40.814662Z",
     "start_time": "2019-10-12T14:15:40.807721Z"
    }
   },
   "outputs": [],
   "source": [
    "for i in range(10):\n",
    "            votes[i, :] = votes[i, :] / len((np.array(y) == i).nonzero()[0])"
   ]
  },
  {
   "cell_type": "code",
   "execution_count": null,
   "metadata": {
    "ExecuteTime": {
     "end_time": "2019-10-12T14:15:41.339429Z",
     "start_time": "2019-10-12T14:15:41.330007Z"
    }
   },
   "outputs": [],
   "source": [
    "votes"
   ]
  },
  {
   "cell_type": "code",
   "execution_count": null,
   "metadata": {
    "ExecuteTime": {
     "end_time": "2019-10-12T14:17:23.407998Z",
     "start_time": "2019-10-12T14:17:23.400065Z"
    }
   },
   "outputs": [],
   "source": [
    "top_classes = votes.argmax(dim=1).numpy()\n",
    "top_classes"
   ]
  },
  {
   "cell_type": "code",
   "execution_count": null,
   "metadata": {
    "ExecuteTime": {
     "end_time": "2019-10-12T15:08:25.921411Z",
     "start_time": "2019-10-12T14:42:30.576898Z"
    }
   },
   "outputs": [],
   "source": [
    "net.calibrate_top_classes(10000)"
   ]
  },
  {
   "cell_type": "code",
   "execution_count": null,
   "metadata": {
    "ExecuteTime": {
     "end_time": "2019-10-13T10:19:14.216402Z",
     "start_time": "2019-10-13T10:19:14.210948Z"
    }
   },
   "outputs": [],
   "source": [
    "sp = net.spikes['Y'].get('s').view(30, -1).reshape(625, 30)"
   ]
  },
  {
   "cell_type": "code",
   "execution_count": null,
   "metadata": {
    "ExecuteTime": {
     "end_time": "2019-10-13T10:20:03.137094Z",
     "start_time": "2019-10-13T10:20:03.029464Z"
    }
   },
   "outputs": [],
   "source": [
    "sum_output = net.spikes['Y'].get('s').reshape(625, 30).sum(1)\n",
    "res = torch.matmul(net.votes.type(torch.LongTensor), sum_output)\n",
    "res.argmax()"
   ]
  },
  {
   "cell_type": "code",
   "execution_count": null,
   "metadata": {
    "ExecuteTime": {
     "end_time": "2019-10-13T10:23:11.061305Z",
     "start_time": "2019-10-13T10:23:10.991872Z"
    }
   },
   "outputs": [],
   "source": [
    "def accuracy_test(network):\n",
    "    network.calibrate_top_classes(60000)\n",
    "    acc = network.accuracy(1000)\n",
    "    return acc"
   ]
  },
  {
   "cell_type": "code",
   "execution_count": null,
   "metadata": {
    "ExecuteTime": {
     "end_time": "2019-10-13T11:30:01.481641Z",
     "start_time": "2019-10-13T11:30:01.476704Z"
    }
   },
   "outputs": [],
   "source": [
    "ot = torch.zeros(2)\n",
    "ot[0] = True\n",
    "ot[1] = True\n",
    "votes = torch.zeros(11, 2)\n",
    "votes[1, 0] = 2\n",
    "votes[2, 1] = 1"
   ]
  },
  {
   "cell_type": "code",
   "execution_count": null,
   "metadata": {
    "ExecuteTime": {
     "end_time": "2019-10-13T11:30:01.732243Z",
     "start_time": "2019-10-13T11:30:01.720341Z"
    }
   },
   "outputs": [],
   "source": [
    "res = torch.matmul(votes.type(torch.LongTensor), ot.type(torch.LongTensor))"
   ]
  },
  {
   "cell_type": "code",
   "execution_count": 1,
   "metadata": {
    "ExecuteTime": {
     "end_time": "2019-10-13T12:40:03.559623Z",
     "start_time": "2019-10-13T12:39:59.241954Z"
    }
   },
   "outputs": [],
   "source": [
    "from utils import gridsearch"
   ]
  },
  {
   "cell_type": "code",
   "execution_count": 2,
   "metadata": {
    "ExecuteTime": {
     "end_time": "2019-10-13T12:40:28.590718Z",
     "start_time": "2019-10-13T12:40:04.382486Z"
    }
   },
   "outputs": [
    {
     "name": "stdout",
     "output_type": "stream",
     "text": [
      "Training network...\n"
     ]
    },
    {
     "name": "stderr",
     "output_type": "stream",
     "text": [
      "100%|████████████████████████████████████████████████████████████████████████████████████| 2/2 [00:01<00:00,  1.10it/s]\n"
     ]
    },
    {
     "name": "stdout",
     "output_type": "stream",
     "text": [
      "Calibrating top classes for each neuron...\n"
     ]
    },
    {
     "name": "stderr",
     "output_type": "stream",
     "text": [
      "100%|████████████████████████████████████████████████████████████████████████████████████| 2/2 [00:00<00:00,  4.89it/s]\n"
     ]
    },
    {
     "name": "stdout",
     "output_type": "stream",
     "text": [
      "Calculating accuracy...\n"
     ]
    },
    {
     "name": "stderr",
     "output_type": "stream",
     "text": [
      "100%|████████████████████████████████████████████████████████████████████████████████████| 2/2 [00:00<00:00,  4.16it/s]\n"
     ]
    },
    {
     "name": "stdout",
     "output_type": "stream",
     "text": [
      "Accuracy: 0.0\n",
      "Training network...\n"
     ]
    },
    {
     "name": "stderr",
     "output_type": "stream",
     "text": [
      "100%|████████████████████████████████████████████████████████████████████████████████████| 2/2 [00:02<00:00,  1.52s/it]\n"
     ]
    },
    {
     "name": "stdout",
     "output_type": "stream",
     "text": [
      "Calibrating top classes for each neuron...\n"
     ]
    },
    {
     "name": "stderr",
     "output_type": "stream",
     "text": [
      "100%|████████████████████████████████████████████████████████████████████████████████████| 2/2 [00:00<00:00,  3.41it/s]\n"
     ]
    },
    {
     "name": "stdout",
     "output_type": "stream",
     "text": [
      "Calculating accuracy...\n"
     ]
    },
    {
     "name": "stderr",
     "output_type": "stream",
     "text": [
      "100%|████████████████████████████████████████████████████████████████████████████████████| 2/2 [00:00<00:00,  2.98it/s]\n"
     ]
    },
    {
     "name": "stdout",
     "output_type": "stream",
     "text": [
      "Accuracy: 0.0\n"
     ]
    }
   ],
   "source": [
    "accs = gridsearch(norms=[0.1, 0.2], comp_weights=[-50], n_iter=2, name='test', accuracy_iter=2)"
   ]
  },
  {
   "cell_type": "code",
   "execution_count": 3,
   "metadata": {
    "ExecuteTime": {
     "end_time": "2019-10-13T18:08:19.378389Z",
     "start_time": "2019-10-13T18:08:16.395940Z"
    }
   },
   "outputs": [
    {
     "data": {
      "text/plain": [
       "tensor([[0.],\n",
       "        [0.]])"
      ]
     },
     "execution_count": 3,
     "metadata": {},
     "output_type": "execute_result"
    }
   ],
   "source": [
    "accs"
   ]
  },
  {
   "cell_type": "code",
   "execution_count": null,
   "metadata": {},
   "outputs": [],
   "source": []
  }
 ],
 "metadata": {
  "hide_input": false,
  "kernelspec": {
   "display_name": "Python 3",
   "language": "python",
   "name": "python3"
  },
  "language_info": {
   "codemirror_mode": {
    "name": "ipython",
    "version": 3
   },
   "file_extension": ".py",
   "mimetype": "text/x-python",
   "name": "python",
   "nbconvert_exporter": "python",
   "pygments_lexer": "ipython3",
   "version": "3.7.4"
  },
  "pycharm": {
   "stem_cell": {
    "cell_type": "raw",
    "metadata": {
     "collapsed": false
    },
    "source": []
   }
  },
  "toc": {
   "base_numbering": 1,
   "nav_menu": {},
   "number_sections": true,
   "sideBar": true,
   "skip_h1_title": false,
   "title_cell": "Table of Contents",
   "title_sidebar": "Contents",
   "toc_cell": false,
   "toc_position": {},
   "toc_section_display": true,
   "toc_window_display": false
  },
  "varInspector": {
   "cols": {
    "lenName": 16,
    "lenType": 16,
    "lenVar": 40
   },
   "kernels_config": {
    "python": {
     "delete_cmd_postfix": "",
     "delete_cmd_prefix": "del ",
     "library": "var_list.py",
     "varRefreshCmd": "print(var_dic_list())"
    },
    "r": {
     "delete_cmd_postfix": ") ",
     "delete_cmd_prefix": "rm(",
     "library": "var_list.r",
     "varRefreshCmd": "cat(var_dic_list()) "
    }
   },
   "types_to_exclude": [
    "module",
    "function",
    "builtin_function_or_method",
    "instance",
    "_Feature"
   ],
   "window_display": false
  }
 },
 "nbformat": 4,
 "nbformat_minor": 2
}
