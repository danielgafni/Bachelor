{
 "cells": [
  {
   "cell_type": "markdown",
   "metadata": {},
   "source": [
    "# Imports"
   ]
  },
  {
   "cell_type": "code",
   "execution_count": 1,
   "metadata": {
    "ExecuteTime": {
     "end_time": "2019-09-17T11:51:58.746466Z",
     "start_time": "2019-09-17T11:51:57.186276Z"
    }
   },
   "outputs": [],
   "source": [
    "import torch\n",
    "import matplotlib.pyplot as plt\n",
    "from torchvision import transforms\n",
    "\n",
    "from time import time as t\n",
    "from tqdm import tqdm\n",
    "\n",
    "from bindsnet.datasets import MNIST\n",
    "from bindsnet.encoding import PoissonEncoder\n",
    "from bindsnet.network import Network\n",
    "from bindsnet.learning import PostPre, WeightDependentPostPre\n",
    "from bindsnet.network.monitors import Monitor, NetworkMonitor\n",
    "from bindsnet.network.nodes import AdaptiveLIFNodes, Input\n",
    "from bindsnet.network.topology import LocalConnection, Connection\n",
    "from bindsnet.analysis.plotting import (\n",
    "    plot_input,\n",
    "    plot_spikes,\n",
    "    plot_conv2d_weights,\n",
    "    plot_voltages,\n",
    ")\n",
    "\n",
    "from IPython.display import clear_output"
   ]
  },
  {
   "cell_type": "markdown",
   "metadata": {},
   "source": [
    "# Loading and encoding MNIST dataset"
   ]
  },
  {
   "cell_type": "code",
   "execution_count": 2,
   "metadata": {
    "ExecuteTime": {
     "end_time": "2019-09-17T11:51:58.784356Z",
     "start_time": "2019-09-17T11:51:58.748385Z"
    }
   },
   "outputs": [],
   "source": [
    "time = 30\n",
    "dt = 1\n",
    "intensity = 127.5\n",
    "\n",
    "train_dataset = MNIST(\n",
    "    PoissonEncoder(time=time, dt=dt),\n",
    "    None,\n",
    "    \"MNIST\",\n",
    "    download=False,\n",
    "    train=True,\n",
    "    transform=transforms.Compose(\n",
    "        [transforms.ToTensor(), transforms.Lambda(lambda x: x * intensity)]\n",
    "    )\n",
    ")"
   ]
  },
  {
   "cell_type": "markdown",
   "metadata": {},
   "source": [
    "# Building network"
   ]
  },
  {
   "cell_type": "code",
   "execution_count": 3,
   "metadata": {
    "ExecuteTime": {
     "end_time": "2019-09-17T11:52:01.736034Z",
     "start_time": "2019-09-17T11:51:58.786284Z"
    }
   },
   "outputs": [],
   "source": [
    "# Hyperparameters \n",
    "n_filters = 25\n",
    "kernel_size = 12\n",
    "stride = 4 \n",
    "padding = 0\n",
    "conv_size = int((28 - kernel_size + 2 * padding) / stride) + 1\n",
    "per_class = int((n_filters * conv_size * conv_size) / 10)\n",
    "tc_trace = 20.  # grid search check\n",
    "tc_decay = 20.\n",
    "thresh = -52\n",
    "refrac = 5\n",
    "\n",
    "wmin = 0\n",
    "wmax = 1\n",
    "\n",
    "# Network\n",
    "network = Network()\n",
    "GlobalMonitor = NetworkMonitor(network, state_vars=('v', 's', 'w'))\n",
    "\n",
    "input_layer = Input(n=784, shape=(1, 28, 28), traces=True)\n",
    "\n",
    "output_layer = AdaptiveLIFNodes(\n",
    "    n=n_filters * conv_size * conv_size,\n",
    "    shape=(n_filters, conv_size, conv_size),\n",
    "    traces=True,\n",
    "    thres=thresh,\n",
    "    trace_tc=tc_trace,\n",
    "    tc_decay=tc_decay,\n",
    "    theta_plus=0.05,\n",
    "    tc_theta_decay=1e6)\n",
    "\n",
    "\n",
    "connection_XY = LocalConnection(\n",
    "    input_layer,\n",
    "    output_layer,\n",
    "    n_filters=n_filters,\n",
    "    kernel_size=kernel_size,\n",
    "    stride=stride,\n",
    "    update_rule=PostPre,\n",
    "    norm=0.4 * kernel_size ** 2,  # norm constant - check\n",
    "    nu=[1e-4, 1e-2],\n",
    "    wmin=wmin,\n",
    "    wmax=wmax)\n",
    "\n",
    "# competitive connections\n",
    "w = torch.zeros(n_filters, conv_size, conv_size, n_filters, conv_size, conv_size)\n",
    "for fltr1 in range(n_filters):\n",
    "    for fltr2 in range(n_filters):\n",
    "        if fltr1 != fltr2:\n",
    "            # change\n",
    "            for i in range(conv_size):\n",
    "                for j in range(conv_size):\n",
    "                    w[fltr1, i, j, fltr2, i, j] = -100.0\n",
    "                    \n",
    "connection_competitive = Connection(output_layer, output_layer, w=w)\n",
    "\n",
    "network.add_layer(input_layer, name='X')\n",
    "network.add_layer(output_layer, name='Y')\n",
    "\n",
    "network.add_connection(connection_XY, source='X', target='Y')\n",
    "network.add_connection(connection_competitive, source='Y', target='Y')\n",
    "\n",
    "network.add_monitor(GlobalMonitor, name='Network')\n",
    "\n",
    "spikes = {}\n",
    "for layer in set(network.layers):\n",
    "    spikes[layer] = Monitor(network.layers[layer], state_vars=[\"s\"], time=time)\n",
    "    network.add_monitor(spikes[layer], name=\"%s_spikes\" % layer)\n",
    "\n",
    "voltages = {}\n",
    "for layer in set(network.layers) - {\"X\"}:\n",
    "    voltages[layer] = Monitor(network.layers[layer], state_vars=[\"v\"], time=time)\n",
    "    network.add_monitor(voltages[layer], name=\"%s_voltages\" % layer)"
   ]
  },
  {
   "cell_type": "markdown",
   "metadata": {},
   "source": [
    "# Training"
   ]
  },
  {
   "cell_type": "code",
   "execution_count": null,
   "metadata": {
    "ExecuteTime": {
     "start_time": "2019-09-17T11:51:57.162Z"
    },
    "scrolled": true
   },
   "outputs": [
    {
     "name": "stderr",
     "output_type": "stream",
     "text": [
      " 10%|█         | 6189/60000 [1:29:39<3:06:56,  4.80it/s]      "
     ]
    }
   ],
   "source": [
    "n_epochs = 1\n",
    "for epoch in range(n_epochs):\n",
    "    #print(f'Batsh size in loop: {network.batch_size}')\n",
    "    train_dataloader = torch.utils.data.DataLoader(\n",
    "        train_dataset, batch_size=1, shuffle=True)\n",
    "    \n",
    "    for batch in tqdm(train_dataloader):\n",
    "        inpts = {\"X\": batch[\"encoded_image\"]}\n",
    "        inpts = {\"X\": batch[\"encoded_image\"].transpose(0, 1)}\n",
    "        #print(f'input size {batch[\"encoded_image\"].size()}')\n",
    "\n",
    "        network.run(inpts=inpts, time=time, input_time_dim=1)\n",
    "    network.reset_()  # Reset state variables"
   ]
  },
  {
   "cell_type": "code",
   "execution_count": null,
   "metadata": {
    "ExecuteTime": {
     "end_time": "2019-09-13T14:16:24.602713Z",
     "start_time": "2019-09-13T14:16:24.432584Z"
    }
   },
   "outputs": [],
   "source": []
  },
  {
   "cell_type": "code",
   "execution_count": null,
   "metadata": {
    "ExecuteTime": {
     "end_time": "2019-09-13T13:13:48.124324Z",
     "start_time": "2019-09-13T13:13:33.256Z"
    }
   },
   "outputs": [],
   "source": []
  },
  {
   "cell_type": "code",
   "execution_count": null,
   "metadata": {
    "ExecuteTime": {
     "start_time": "2019-09-17T11:51:57.173Z"
    }
   },
   "outputs": [],
   "source": [
    "sample['encoded_image'][0][0][0].numpy()"
   ]
  },
  {
   "cell_type": "code",
   "execution_count": null,
   "metadata": {
    "ExecuteTime": {
     "start_time": "2019-09-17T11:51:57.176Z"
    }
   },
   "outputs": [],
   "source": [
    "id('a')"
   ]
  },
  {
   "cell_type": "code",
   "execution_count": null,
   "metadata": {
    "ExecuteTime": {
     "start_time": "2019-09-17T11:51:57.178Z"
    }
   },
   "outputs": [],
   "source": [
    "train_dataloader?"
   ]
  },
  {
   "cell_type": "code",
   "execution_count": null,
   "metadata": {
    "ExecuteTime": {
     "end_time": "2019-09-13T10:39:47.481771Z",
     "start_time": "2019-09-13T10:39:47.473340Z"
    }
   },
   "outputs": [],
   "source": []
  },
  {
   "cell_type": "code",
   "execution_count": null,
   "metadata": {},
   "outputs": [],
   "source": []
  },
  {
   "cell_type": "markdown",
   "metadata": {},
   "source": []
  }
 ],
 "metadata": {
  "hide_input": false,
  "kernelspec": {
   "display_name": "Python 3",
   "language": "python",
   "name": "python3"
  },
  "language_info": {
   "codemirror_mode": {
    "name": "ipython",
    "version": 3
   },
   "file_extension": ".py",
   "mimetype": "text/x-python",
   "name": "python",
   "nbconvert_exporter": "python",
   "pygments_lexer": "ipython3",
   "version": "3.7.4"
  },
  "toc": {
   "base_numbering": 1,
   "nav_menu": {},
   "number_sections": true,
   "sideBar": true,
   "skip_h1_title": false,
   "title_cell": "Table of Contents",
   "title_sidebar": "Contents",
   "toc_cell": false,
   "toc_position": {},
   "toc_section_display": true,
   "toc_window_display": false
  },
  "varInspector": {
   "cols": {
    "lenName": 16,
    "lenType": 16,
    "lenVar": 40
   },
   "kernels_config": {
    "python": {
     "delete_cmd_postfix": "",
     "delete_cmd_prefix": "del ",
     "library": "var_list.py",
     "varRefreshCmd": "print(var_dic_list())"
    },
    "r": {
     "delete_cmd_postfix": ") ",
     "delete_cmd_prefix": "rm(",
     "library": "var_list.r",
     "varRefreshCmd": "cat(var_dic_list()) "
    }
   },
   "types_to_exclude": [
    "module",
    "function",
    "builtin_function_or_method",
    "instance",
    "_Feature"
   ],
   "window_display": false
  }
 },
 "nbformat": 4,
 "nbformat_minor": 2
}
